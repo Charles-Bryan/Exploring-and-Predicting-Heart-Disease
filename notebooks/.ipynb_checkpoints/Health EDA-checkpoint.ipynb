{
 "cells": [
  {
   "cell_type": "markdown",
   "metadata": {},
   "source": [
    "# Introduction\n",
    "\n",
    "The purpose of this work will be to investigate the 'heart.csv' dataset provided on Kaggle to try predicting the presence of heart disease in the patients. This data can be found [here](https://www.kaggle.com/andrewmvd/fetal-health-classification) from Kaggle and further informaiton is available directly from the [source](https://archive.ics.uci.edu/ml/datasets/Heart+Disease) (the Center for Machine Learning and Intelligent Systems)."
   ]
  },
  {
   "cell_type": "markdown",
   "metadata": {},
   "source": [
    "# The Data\n",
    "\n",
    "The first step when working with a new dataset is always to better understand the dataset such as the different features, missing data, and any peculiar characteristics. To do that, let us import and look over the data:"
   ]
  },
  {
   "cell_type": "code",
   "execution_count": 1,
   "metadata": {
    "ExecuteTime": {
     "end_time": "2020-11-29T02:30:46.052344Z",
     "start_time": "2020-11-29T02:30:45.623490Z"
    },
    "cell_style": "center",
    "scrolled": true
   },
   "outputs": [
    {
     "name": "stdout",
     "output_type": "stream",
     "text": [
      "Number of Patients: 303\n",
      "Number of Columns: 14\n",
      "Missing Data: None\n"
     ]
    }
   ],
   "source": [
    "import pandas as pd\n",
    "\n",
    "file_path = '../input/heart.csv'\n",
    "heart_df = pd.read_csv(file_path)\n",
    "print(f\"Number of Patients: {heart_df.shape[0]}\")\n",
    "print(f\"Number of Columns: {heart_df.shape[1]}\")\n",
    "print(f\"Missing Data: None\")"
   ]
  },
  {
   "cell_type": "code",
   "execution_count": 2,
   "metadata": {
    "ExecuteTime": {
     "end_time": "2020-11-29T02:30:46.070295Z",
     "start_time": "2020-11-29T02:30:46.053341Z"
    }
   },
   "outputs": [
    {
     "data": {
      "text/html": [
       "<div>\n",
       "<style scoped>\n",
       "    .dataframe tbody tr th:only-of-type {\n",
       "        vertical-align: middle;\n",
       "    }\n",
       "\n",
       "    .dataframe tbody tr th {\n",
       "        vertical-align: top;\n",
       "    }\n",
       "\n",
       "    .dataframe thead th {\n",
       "        text-align: right;\n",
       "    }\n",
       "</style>\n",
       "<table border=\"1\" class=\"dataframe\">\n",
       "  <thead>\n",
       "    <tr style=\"text-align: right;\">\n",
       "      <th></th>\n",
       "      <th>age</th>\n",
       "      <th>sex</th>\n",
       "      <th>cp</th>\n",
       "      <th>trestbps</th>\n",
       "      <th>chol</th>\n",
       "      <th>fbs</th>\n",
       "      <th>restecg</th>\n",
       "      <th>thalach</th>\n",
       "      <th>exang</th>\n",
       "      <th>oldpeak</th>\n",
       "      <th>slope</th>\n",
       "      <th>ca</th>\n",
       "      <th>thal</th>\n",
       "      <th>target</th>\n",
       "    </tr>\n",
       "  </thead>\n",
       "  <tbody>\n",
       "    <tr>\n",
       "      <th>0</th>\n",
       "      <td>63</td>\n",
       "      <td>1</td>\n",
       "      <td>3</td>\n",
       "      <td>145</td>\n",
       "      <td>233</td>\n",
       "      <td>1</td>\n",
       "      <td>0</td>\n",
       "      <td>150</td>\n",
       "      <td>0</td>\n",
       "      <td>2.3</td>\n",
       "      <td>0</td>\n",
       "      <td>0</td>\n",
       "      <td>1</td>\n",
       "      <td>1</td>\n",
       "    </tr>\n",
       "    <tr>\n",
       "      <th>1</th>\n",
       "      <td>37</td>\n",
       "      <td>1</td>\n",
       "      <td>2</td>\n",
       "      <td>130</td>\n",
       "      <td>250</td>\n",
       "      <td>0</td>\n",
       "      <td>1</td>\n",
       "      <td>187</td>\n",
       "      <td>0</td>\n",
       "      <td>3.5</td>\n",
       "      <td>0</td>\n",
       "      <td>0</td>\n",
       "      <td>2</td>\n",
       "      <td>1</td>\n",
       "    </tr>\n",
       "    <tr>\n",
       "      <th>2</th>\n",
       "      <td>41</td>\n",
       "      <td>0</td>\n",
       "      <td>1</td>\n",
       "      <td>130</td>\n",
       "      <td>204</td>\n",
       "      <td>0</td>\n",
       "      <td>0</td>\n",
       "      <td>172</td>\n",
       "      <td>0</td>\n",
       "      <td>1.4</td>\n",
       "      <td>2</td>\n",
       "      <td>0</td>\n",
       "      <td>2</td>\n",
       "      <td>1</td>\n",
       "    </tr>\n",
       "    <tr>\n",
       "      <th>3</th>\n",
       "      <td>56</td>\n",
       "      <td>1</td>\n",
       "      <td>1</td>\n",
       "      <td>120</td>\n",
       "      <td>236</td>\n",
       "      <td>0</td>\n",
       "      <td>1</td>\n",
       "      <td>178</td>\n",
       "      <td>0</td>\n",
       "      <td>0.8</td>\n",
       "      <td>2</td>\n",
       "      <td>0</td>\n",
       "      <td>2</td>\n",
       "      <td>1</td>\n",
       "    </tr>\n",
       "    <tr>\n",
       "      <th>4</th>\n",
       "      <td>57</td>\n",
       "      <td>0</td>\n",
       "      <td>0</td>\n",
       "      <td>120</td>\n",
       "      <td>354</td>\n",
       "      <td>0</td>\n",
       "      <td>1</td>\n",
       "      <td>163</td>\n",
       "      <td>1</td>\n",
       "      <td>0.6</td>\n",
       "      <td>2</td>\n",
       "      <td>0</td>\n",
       "      <td>2</td>\n",
       "      <td>1</td>\n",
       "    </tr>\n",
       "  </tbody>\n",
       "</table>\n",
       "</div>"
      ],
      "text/plain": [
       "   age  sex  cp  trestbps  chol  fbs  restecg  thalach  exang  oldpeak  slope  \\\n",
       "0   63    1   3       145   233    1        0      150      0      2.3      0   \n",
       "1   37    1   2       130   250    0        1      187      0      3.5      0   \n",
       "2   41    0   1       130   204    0        0      172      0      1.4      2   \n",
       "3   56    1   1       120   236    0        1      178      0      0.8      2   \n",
       "4   57    0   0       120   354    0        1      163      1      0.6      2   \n",
       "\n",
       "   ca  thal  target  \n",
       "0   0     1       1  \n",
       "1   0     2       1  \n",
       "2   0     2       1  \n",
       "3   0     2       1  \n",
       "4   0     2       1  "
      ]
     },
     "execution_count": 2,
     "metadata": {},
     "output_type": "execute_result"
    }
   ],
   "source": [
    "heart_df.head()"
   ]
  },
  {
   "cell_type": "code",
   "execution_count": 3,
   "metadata": {
    "ExecuteTime": {
     "end_time": "2020-11-29T02:30:46.080269Z",
     "start_time": "2020-11-29T02:30:46.073287Z"
    },
    "hide_input": true
   },
   "outputs": [],
   "source": [
    "column_detailed_descriptions = {\n",
    "  \"age\": \"The patient's age in years. Lowest is 29, highest is 77.\",\n",
    "  \"sex\": \"The sex of the patient where Female was represented with a 0 and Male was represented as a 1.\",\n",
    "  \"cp\": \"cp is a categorical variable and represents the type of chest pain the patient had. The values are the integers 0-3 and they represent the following respectively: Typical Angina, Atypical Angina, Non-anginal Pain, and Asymptomatic.\",\n",
    "  \"trestbps\": \"trestbps here is defined as the patient's 'resting blood pressure (in mm Hg on admission to the hospital)'. Blood pressure is typically recorded as a pair of numbers such as 120/80 representing a systolic pressure of 120mm Hg and a diastolic pressure of 80mm Hg. Only one number is provided in our data, so I am not sure which number it corresponds to (systolic or diastolic). Regardless, we know that anything above 120 is definitely not in a healthy range.\",\n",
    "  \"chol\": \"chol here is the patient's measure of serum cholesterol in mg/dL. Serum cholesterol is calculated by adding the HDL level, the LDL level, and 20 percent of the triglyceride level present in a blood sample. In general, lower chol values are healthier.\",\n",
    "  \"fbs\": \"fbs represents the patient's fasting blood sugar level. This value is encoded as a 1 if the fasting blood sugar was measured to be over 120mg/dL and 0 if not. For reference, if a fasting blood sugar level over 126mg/dL is measured on two separate tests, the patient has diabetes, so high values are not a sign of good health.\",\n",
    "  \"restecg\": \"restecg is a categorical variable represents the patient's resting electrocardiographic results where the results are encoded as as the integers 0-2: 0-Normal/Healthy Results, 1-having ST-T wave abnormality (T wave inversions and/or ST elevation or depression of > 0.05 mV), 2-showing probable or definite left ventricular hypertrophy by Estes' criteria.\",\n",
    "  \"thalach\": \"I have no idea what 'thalach' is shorthand for, but it is a measure of the patient's maximum heart rate measured. A normal resting heart rate for adults ranges from 60 to 100 beats per minute, but is directly related to age. In general, higher values here will indicate more likely risks.\",\n",
    "  \"exang\": \"This is a boolean encoding for 'excercise induced angina'. This value is stored as a 1 if chest pain is caused by excercise and stored as 0 otherwise. This can occur because excercise increases your body's demand of oxygen.\",\n",
    "  \"oldpeak\": \"oldpeak is a decimal number between 0 and 6.2 (from our data). It is defined as the 'ST depression induced by exercise relative to rest.' From the National Center for Biotechnology Information, 'Deeper and more widespread ST depression generally indicates more severe or extensive disease.' Based on this description, I believe that higher magnitude values of oldpeak will correlate with higher risk.\",\n",
    "  \"slope\": \"slope is categorically encoded as one of three values (0, 1, 2) based on the slope of the peak exercise ST segment: 0-upsloping, 1-flat, 2-downsloping.\",\n",
    "  \"ca\": \"This value is the number of major vessels (0-3) that were colored by flouroscopy. Fluoroscopy detects movement such as the flow of blood. My interpretation is that the number of vessels that are colored should be the vessels functioning properly, and are not blocked. Based on the distribution of values though, I think my interpretation is the opposite of correct. We will see later if high values for this feature positively or negatively correlate with our target.\",\n",
    "  \"thal\": \"I believe thal is a measure of a thallium stress test (also known as a nuclear stress test?) as this can show areas of poor blood flow or damage in a heart. Additionally there is a little bit of confusion in the values held by this feature. The data source gives the following value/descriptions: 'value 3 = normal; 6 = fixed defect; 7 = reversable defect' but the values actually held are 0, 1, 2, and 3. It is likely that these values are categorical, but other than that they are not immediately understood.\",\n",
    "  \"target\": \"The target field refers to the presence of heart disease in the patient. In the original dataset this field valued from 0 (no presence) to 4 determined by the severity of the heart disease. Now, however, all severities of heart disease have been combined into the value 1 and 0 has been kept as 0 to separate any heart disease from no heart disease.\"\n",
    "}"
   ]
  },
  {
   "cell_type": "markdown",
   "metadata": {},
   "source": [
    "We can see that we have 14 columns and 303 observations. Some of the columns are intuitive like <b>age</b> and <b>sex</b>, but let's look into each column with a little bit more detail."
   ]
  },
  {
   "cell_type": "markdown",
   "metadata": {
    "ExecuteTime": {
     "end_time": "2020-11-14T05:03:33.141247Z",
     "start_time": "2020-11-14T05:03:33.126516Z"
    }
   },
   "source": [
    "| Column Name| Given Description | Data-Type | Domain | Mode-Count | Mean | Std Dev |\n",
    "| :- | -: | :-: | :-: | :-: | :-: | :-: |\n",
    "| age | age in years | Integer | 29-77 | - | 54 | 9 |\n",
    "| sex | sex (1 = male; 0 = female) | Categorical-Boolean | 0, 1 | 1-207 | - | - |\n",
    "| cp | chest pain type | Categorical-Nominal | 0, 1, 2, 3 | 0-143 | - | - |\n",
    "| trestbps | resting blood pressure (in mm Hg on admission to the hospital) | Real | 94-200 | - | 131 | 17 |\n",
    "| chol | serum cholestoral in mg/dl | Real | 126-564 | - | 246 | 51 |\n",
    "| fbs | (fasting blood sugar > 120 mg/dl) (1 = true; 0 = false) | Categorical-Boolean | 0, 1 | 0-258 | - | - |\n",
    "| restecg | resting electrocardiographic results | Categorical-Nominal | 0, 1, 2 | 1-152 | - | - |\n",
    "| thalach | maximum heart rate achieved | Real | 71-202 | - | 149 | 22 |\n",
    "| exang | exercise induced angina (1 = yes; 0 = no) | Categorical-Boolean | 0, 1 | 0-204 | - | - |\n",
    "| oldpeak | ST depression induced by exercise relative to rest | Real | 0-6.2 | 0-99 | 1 | 1 |\n",
    "| slope | the slope of the peak exercise ST segment | Categorical-Nominal | 0, 1, 2 | 2-142 | - | - |\n",
    "| ca | number of major vessels (0-3) colored by flourosopy | Categorical-Ordinal | 0, 1, 2, 3, 4 | 0-175 | - | - |\n",
    "| thal | 3 = normal; 6 = fixed defect; 7 = reversable defect | Categorical-Nominal | 0, 1, 2, 3 | 2-166 | - | - |\n",
    "| target | the presence of heart disease in the patient | Categorical-Boolean | 0, 1 | 1-165 | - | - |"
   ]
  },
  {
   "cell_type": "code",
   "execution_count": 4,
   "metadata": {
    "ExecuteTime": {
     "end_time": "2020-11-29T02:30:46.795038Z",
     "start_time": "2020-11-29T02:30:46.081266Z"
    },
    "hide_input": true
   },
   "outputs": [],
   "source": [
    "import ipywidgets as widgets\n",
    "import seaborn as sns\n",
    "\n",
    "w = widgets.ToggleButtons(\n",
    "    options=heart_df.columns,\n",
    "    description='Column:',\n",
    "    disabled=False,\n",
    "    button_style='', # 'success', 'info', 'warning', 'danger' or ''\n",
    "    tooltips=['Description of slow', 'Description of regular', 'Description of fast']\n",
    ")\n",
    "\n",
    "def plot_feature(w):\n",
    "    # determine unique counts\n",
    "    n_unique = heart_df[w].nunique()\n",
    "    # if less than 7, plot countplot\n",
    "    if n_unique < 7:\n",
    "        sns.countplot(x=w, data = heart_df).set_title(f\"{w} Countplot\");\n",
    "    # otherwise plot histogram\n",
    "    else:\n",
    "        sns.histplot(heart_df[w]).set_title(f'{w} Histogram');\n",
    "    print(column_detailed_descriptions[w]) "
   ]
  },
  {
   "cell_type": "code",
   "execution_count": 5,
   "metadata": {
    "ExecuteTime": {
     "end_time": "2020-11-29T02:30:46.961592Z",
     "start_time": "2020-11-29T02:30:46.796002Z"
    },
    "hide_input": true
   },
   "outputs": [
    {
     "data": {
      "application/vnd.jupyter.widget-view+json": {
       "model_id": "b91559a0997d4dd288115c8a49d627c5",
       "version_major": 2,
       "version_minor": 0
      },
      "text/plain": [
       "VBox(children=(ToggleButtons(description='Column:', options=('age', 'sex', 'cp', 'trestbps', 'chol', 'fbs', 'r…"
      ]
     },
     "metadata": {},
     "output_type": "display_data"
    }
   ],
   "source": [
    "out_plot = widgets.interactive_output(plot_feature, {'w': w})\n",
    "widgets.VBox([w, out_plot])"
   ]
  },
  {
   "cell_type": "markdown",
   "metadata": {},
   "source": [
    "# Initial Thoughts\n",
    "\n",
    "It is important to have some domain knowledge before blindly working with the data to better understand results and catch unusual instances. According to heart.org, risk factors for heart disease fall into three categories [[1](https://www.heart.org/en/health-topics/heart-attack/understand-your-risks-to-prevent-a-heart-attack)]: \n",
    "1. Major risk factors – Research has shown that these factors significantly increase the risk of heart and blood vessel (cardiovascular) disease.\n",
    "    - <b>Increasing Age</b>\n",
    "    - <b>Male Gender</b>\n",
    "2. Modifiable risk factors – Some major risk factors can be modified, treated, or controlled through medications or lifestyle change.\n",
    "    - <b>Increasing Cholesterol</b>\n",
    "        - \"As we age, cholesterol levels tend to climb. Men are generally at a higher risk than women for higher cholesterol. However, a woman’s risk goes up after she enters menopause.\" [[2](https://www.healthline.com/health/high-cholesterol/levels-by-age#adults)]\n",
    "    - <b>Increasing Blood Pressure</b>\n",
    "        - “As you age, the vascular system changes. This includes your heart and blood vessels. In the blood vessels, there’s a reduction in elastic tissue in your arteries, causing them to become stiffer and less compliant. As a result, your blood pressure increases,” [[3](https://www.healthline.com/health-news/high-blood-pressure-in-older-age-ways-to-lower-risk#Why-it-happens)]\n",
    "3. Contributing risk factors – These factors are associated with increased risk of cardiovascular disease, but their significance and prevalence haven’t yet been determined.\n",
    "    - Stress\n",
    "    - Alcohol\n",
    "    - Diet\n",
    "    - Nutrition\n",
    "    \n",
    "From this reading, we can see that heart disease is closely related to blood pressure and the flow of blood around the heart. Therefore I expect <b>thalach</b> and <b>ca</b> to be important features. Additionally, <b>age</b>, <b>sex</b>, <b>trestbps</b>, <b>fbs</b>, and <b>chol</b> will likely be important factors as well. "
   ]
  },
  {
   "cell_type": "markdown",
   "metadata": {},
   "source": [
    "# Features vs Target\n",
    "\n",
    "Now let's actually look at our data for correlations with the target and any potential issues such as outliers. We only have data on 303 patients, so hoefully we do not need to remove any of this data.\n",
    "\n",
    "## Age\n",
    "\n",
    "We expect age to strongly correlate with an increase in heart disease. Let's see if that assumption holds true."
   ]
  },
  {
   "cell_type": "code",
   "execution_count": 6,
   "metadata": {
    "ExecuteTime": {
     "end_time": "2020-11-29T02:30:47.133100Z",
     "start_time": "2020-11-29T02:30:46.962556Z"
    }
   },
   "outputs": [
    {
     "data": {
      "image/png": "[encoded data removed]",
      "text/plain": [
       "<Figure size 432x288 with 1 Axes>"
      ]
     },
     "metadata": {
      "needs_background": "light"
     },
     "output_type": "display_data"
    }
   ],
   "source": [
    "import matplotlib.pyplot as plt\n",
    "sns.histplot(data = heart_df, x='age', hue='target');"
   ]
  },
  {
   "cell_type": "markdown",
   "metadata": {},
   "source": [
    "Interestingly, the percentage of patients at lower ages having heart disease is extremely high. For instance, 66 of the 95 patients (69%) at or below 50 years of age have heart disease. On the otherhand, only 99 of the 208 patients (47%) over the age of 50 have heart disease. Based on this data we would believe that a patient is less likely to develop heart disease aa they get older. It is clear that our data is biased, and that few younger patients were included in this dataset with healthy results. Therefore, we should <b>not</b> include age as a feature in our model. We may include it when performing feature engineering with other features, but not directly. Otherwise, our model will be very bad on unseen data when taking age into consideration."
   ]
  },
  {
   "cell_type": "markdown",
   "metadata": {},
   "source": [
    "## Sex\n",
    "\n",
    "Based on our research we expect men to be more likely to have heart disease. If our data shows otherwise, we would likely have a bias in our data as we did with age."
   ]
  },
  {
   "cell_type": "code",
   "execution_count": 7,
   "metadata": {
    "ExecuteTime": {
     "end_time": "2020-11-29T02:30:47.233831Z",
     "start_time": "2020-11-29T02:30:47.135095Z"
    }
   },
   "outputs": [
    {
     "data": {
      "image/png": "[encoded data removed]",
      "text/plain": [
       "<Figure size 432x288 with 1 Axes>"
      ]
     },
     "metadata": {
      "needs_background": "light"
     },
     "output_type": "display_data"
    }
   ],
   "source": [
    "sns.countplot(x=\"sex\", hue=\"target\", data=heart_df)\n",
    "plt.xticks([0, 1], ['Female', 'Male']);"
   ]
  },
  {
   "cell_type": "markdown",
   "metadata": {},
   "source": [
    "Unfortunately we again have a clear bias with our given data. Published data states that men are more likely to have heart disease than women, however, a random man in our dataset has heart disease 45% of the time and a random female has heart disease 75% of the time. Just like with the feature <b>age</b>, we will not be using <b>sex</b> as a feature in our model due to this clear bias."
   ]
  },
  {
   "cell_type": "markdown",
   "metadata": {},
   "source": [
    "## Chest Pain Type (cp)\n",
    "\n",
    "We have little data on Asymptomatic patients, but I would expect them to be unlikely to have heart disease. I would expect Typical Angina pain to be a strong indicator of heart disease."
   ]
  },
  {
   "cell_type": "code",
   "execution_count": 8,
   "metadata": {
    "ExecuteTime": {
     "end_time": "2020-11-29T02:30:47.361490Z",
     "start_time": "2020-11-29T02:30:47.234828Z"
    }
   },
   "outputs": [
    {
     "data": {
      "image/png": "[encoded data removed]",
      "text/plain": [
       "<Figure size 432x288 with 1 Axes>"
      ]
     },
     "metadata": {
      "needs_background": "light"
     },
     "output_type": "display_data"
    }
   ],
   "source": [
    "sns.countplot(x=\"cp\", hue=\"target\", data=heart_df)\n",
    "plt.xticks([0, 1, 2, 3], ['Typical Angina', 'Atypical Angina', 'Non-anginal Pain', 'Asymptomatic']);"
   ]
  },
  {
   "cell_type": "markdown",
   "metadata": {},
   "source": [
    "I worry about including this data as well. My understanding of Asymptomatic is a patient not experiencing pain. If a random person was tested and was not experiencing any pain, I would not expect them to be 69% likely to have heart disease where someone with chest pain is only 27% likely to have heart disease. Again, there is a clear bias in this data."
   ]
  },
  {
   "cell_type": "code",
   "execution_count": 9,
   "metadata": {
    "ExecuteTime": {
     "end_time": "2020-11-29T02:30:47.368471Z",
     "start_time": "2020-11-29T02:30:47.362487Z"
    }
   },
   "outputs": [
    {
     "data": {
      "text/plain": [
       "39"
      ]
     },
     "execution_count": 9,
     "metadata": {},
     "output_type": "execute_result"
    }
   ],
   "source": [
    "heart_df[heart_df['cp'] == 0]['target'].sum()"
   ]
  },
  {
   "cell_type": "markdown",
   "metadata": {},
   "source": [
    "## Resting Blood Pressure (trestbps)\n",
    "\n",
    "We expect a higher trestbps to correlate wtih an increase in likelihood of heart disease."
   ]
  },
  {
   "cell_type": "code",
   "execution_count": 10,
   "metadata": {
    "ExecuteTime": {
     "end_time": "2020-11-29T02:30:47.588890Z",
     "start_time": "2020-11-29T02:30:47.369468Z"
    }
   },
   "outputs": [
    {
     "data": {
      "image/png": "[encoded data removed]",
      "text/plain": [
       "<Figure size 432x288 with 1 Axes>"
      ]
     },
     "metadata": {
      "needs_background": "light"
     },
     "output_type": "display_data"
    }
   ],
   "source": [
    "sns.histplot(data = heart_df, x='trestbps', hue='target', bins=10);"
   ]
  },
  {
   "cell_type": "markdown",
   "metadata": {},
   "source": [
    "Surprisingly the bins beneath 150 are all more likley to have heart disease than not, while the bins above are all less likely to have heart disease. Due to the concerns of bias in the previous features, it is difficult to feel confident of reliable data for any feature that has unexpected results."
   ]
  },
  {
   "cell_type": "markdown",
   "metadata": {},
   "source": [
    "## Serum Cholesterol (chol)\n",
    "\n",
    "We expect a higher chol to correlate with an increase in likelihood of heart disease."
   ]
  },
  {
   "cell_type": "code",
   "execution_count": 11,
   "metadata": {
    "ExecuteTime": {
     "end_time": "2020-11-29T02:30:47.749454Z",
     "start_time": "2020-11-29T02:30:47.589880Z"
    }
   },
   "outputs": [
    {
     "data": {
      "image/png": "[encoded data removed]",
      "text/plain": [
       "<Figure size 432x288 with 1 Axes>"
      ]
     },
     "metadata": {
      "needs_background": "light"
     },
     "output_type": "display_data"
    }
   ],
   "source": [
    "sns.histplot(data = heart_df, x='chol', hue='target', bins=10);"
   ]
  },
  {
   "cell_type": "markdown",
   "metadata": {},
   "source": [
    "## Fasting Blood Sugar (fbs)\n",
    "\n",
    "We would expect a patient with a high fasting blood sugar to be more likely to have heart disease than a patient with low fasting blood pressure."
   ]
  },
  {
   "cell_type": "code",
   "execution_count": 12,
   "metadata": {
    "ExecuteTime": {
     "end_time": "2020-11-29T02:30:47.860157Z",
     "start_time": "2020-11-29T02:30:47.750451Z"
    }
   },
   "outputs": [
    {
     "data": {
      "image/png": "[encoded data removed]",
      "text/plain": [
       "<Figure size 432x288 with 1 Axes>"
      ]
     },
     "metadata": {
      "needs_background": "light"
     },
     "output_type": "display_data"
    }
   ],
   "source": [
    "sns.countplot(x=\"fbs\", hue=\"target\", data=heart_df)\n",
    "plt.xticks([0, 1], ['Low FBS', 'High FBS']);"
   ]
  },
  {
   "cell_type": "markdown",
   "metadata": {},
   "source": [
    "Here we show that a pateint is more likely to have heart disease if they have a low fasting blood sugar level which contradicts medical knowledge[[4](http://www.diabetesincontrol.com/fasting-blood-sugar-above-90-puts-you-at-risk-of-heart-disease/#:~:text=Study%20shows%20a%20fasting%20BG,level%20below%2079%20mg%2Fdl.)]. This dataset needs more control data..."
   ]
  },
  {
   "cell_type": "markdown",
   "metadata": {},
   "source": [
    "## Resting Electrocardiographic Results (restecg)\n",
    "\n",
    "When restecg is 0 we expect the pateint to be healthy and not likely to have heart disease. The other cases, 1 and 2, are abnormalities and should be more likely to have heart disease than the normal case."
   ]
  },
  {
   "cell_type": "code",
   "execution_count": 13,
   "metadata": {
    "ExecuteTime": {
     "end_time": "2020-11-29T02:30:47.974851Z",
     "start_time": "2020-11-29T02:30:47.861154Z"
    }
   },
   "outputs": [
    {
     "data": {
      "text/plain": [
       "<AxesSubplot:xlabel='restecg', ylabel='count'>"
      ]
     },
     "execution_count": 13,
     "metadata": {},
     "output_type": "execute_result"
    },
    {
     "data": {
      "image/png": "[encoded data removed]",
      "text/plain": [
       "<Figure size 432x288 with 1 Axes>"
      ]
     },
     "metadata": {
      "needs_background": "light"
     },
     "output_type": "display_data"
    }
   ],
   "source": [
    "sns.countplot(x=\"restecg\", hue=\"target\", data=heart_df)"
   ]
  },
  {
   "cell_type": "markdown",
   "metadata": {},
   "source": [
    "Fortunately the probability of having heart disease when restecg=1 is greater than the probability when restecg=0 as we should expect. Again, the probability of having heart disease with a healthy restecg value seems unrealistically high for the average person though, and shows a bias with the data."
   ]
  },
  {
   "cell_type": "markdown",
   "metadata": {},
   "source": [
    "## Maximum Heart Rate (thalach)\n",
    "\n",
    "Higher should have some correlation to increased risk of heart disease."
   ]
  },
  {
   "cell_type": "code",
   "execution_count": 14,
   "metadata": {
    "ExecuteTime": {
     "end_time": "2020-11-29T02:30:48.157363Z",
     "start_time": "2020-11-29T02:30:47.975848Z"
    }
   },
   "outputs": [
    {
     "data": {
      "image/png": "[encoded data removed]",
      "text/plain": [
       "<Figure size 432x288 with 1 Axes>"
      ]
     },
     "metadata": {
      "needs_background": "light"
     },
     "output_type": "display_data"
    }
   ],
   "source": [
    "sns.histplot(data = heart_df, x='thalach', hue='target', bins=10);"
   ]
  },
  {
   "cell_type": "markdown",
   "metadata": {
    "ExecuteTime": {
     "end_time": "2020-11-15T02:42:30.255800Z",
     "start_time": "2020-11-15T02:42:30.250821Z"
    }
   },
   "source": [
    "Surprisingly useful looking data that follows the trend we would expect."
   ]
  },
  {
   "cell_type": "markdown",
   "metadata": {},
   "source": [
    "## Exercise Induced Angina (exang)\n",
    "I would expect a patient that has chest pain when exercising to be more likely to have heart disease than a patient that does not have chest pain when exercising."
   ]
  },
  {
   "cell_type": "code",
   "execution_count": 15,
   "metadata": {
    "ExecuteTime": {
     "end_time": "2020-11-29T02:30:48.271061Z",
     "start_time": "2020-11-29T02:30:48.158360Z"
    }
   },
   "outputs": [
    {
     "data": {
      "text/plain": [
       "<AxesSubplot:xlabel='exang', ylabel='count'>"
      ]
     },
     "execution_count": 15,
     "metadata": {},
     "output_type": "execute_result"
    },
    {
     "data": {
      "image/png": "[encoded data removed]",
      "text/plain": [
       "<Figure size 432x288 with 1 Axes>"
      ]
     },
     "metadata": {
      "needs_background": "light"
     },
     "output_type": "display_data"
    }
   ],
   "source": [
    "sns.countplot(x=\"exang\", hue=\"target\", data=heart_df)"
   ]
  },
  {
   "cell_type": "markdown",
   "metadata": {},
   "source": [
    "My intuition appears to have been very wrong on this one. Our data shows that a patient that has no chest pain when exercising is more likely to have heart disease. Again... unless heart disease actually prevents/reduces chest pain when exercising, our dataset is bad."
   ]
  },
  {
   "cell_type": "markdown",
   "metadata": {},
   "source": [
    "## Oldpeak"
   ]
  },
  {
   "cell_type": "code",
   "execution_count": 16,
   "metadata": {
    "ExecuteTime": {
     "end_time": "2020-11-29T02:30:48.454571Z",
     "start_time": "2020-11-29T02:30:48.273056Z"
    }
   },
   "outputs": [
    {
     "data": {
      "image/png": "[encoded data removed]",
      "text/plain": [
       "<Figure size 432x288 with 1 Axes>"
      ]
     },
     "metadata": {
      "needs_background": "light"
     },
     "output_type": "display_data"
    }
   ],
   "source": [
    "sns.histplot(data = heart_df, x='oldpeak', hue='target', bins=10);"
   ]
  },
  {
   "cell_type": "markdown",
   "metadata": {},
   "source": [
    "## Slope"
   ]
  },
  {
   "cell_type": "code",
   "execution_count": 17,
   "metadata": {
    "ExecuteTime": {
     "end_time": "2020-11-29T02:30:48.565305Z",
     "start_time": "2020-11-29T02:30:48.456565Z"
    }
   },
   "outputs": [
    {
     "data": {
      "text/plain": [
       "<AxesSubplot:xlabel='slope', ylabel='count'>"
      ]
     },
     "execution_count": 17,
     "metadata": {},
     "output_type": "execute_result"
    },
    {
     "data": {
      "image/png": "[encoded data removed]",
      "text/plain": [
       "<Figure size 432x288 with 1 Axes>"
      ]
     },
     "metadata": {
      "needs_background": "light"
     },
     "output_type": "display_data"
    }
   ],
   "source": [
    "sns.countplot(x=\"slope\", hue=\"target\", data=heart_df)"
   ]
  },
  {
   "cell_type": "markdown",
   "metadata": {},
   "source": [
    "## Number of Major Vessels Colored by Flourosopy (ca)"
   ]
  },
  {
   "cell_type": "code",
   "execution_count": 18,
   "metadata": {
    "ExecuteTime": {
     "end_time": "2020-11-29T02:30:48.703902Z",
     "start_time": "2020-11-29T02:30:48.566270Z"
    }
   },
   "outputs": [
    {
     "data": {
      "text/plain": [
       "<AxesSubplot:xlabel='ca', ylabel='count'>"
      ]
     },
     "execution_count": 18,
     "metadata": {},
     "output_type": "execute_result"
    },
    {
     "data": {
      "image/png": "[encoded data removed]",
      "text/plain": [
       "<Figure size 432x288 with 1 Axes>"
      ]
     },
     "metadata": {
      "needs_background": "light"
     },
     "output_type": "display_data"
    }
   ],
   "source": [
    "sns.countplot(x=\"ca\", hue=\"target\", data=heart_df)"
   ]
  },
  {
   "cell_type": "markdown",
   "metadata": {},
   "source": [
    "I was unsure about the data before looking at it, and I was hoping that looking at the targets vs vessel count would help my understanding. My understanding is that the colored vessels should be the number of healthy vessels, however, based on the frequencies in our dataset I believe that I was incorrect. Unfortunately I think our dataset has a severe bias so I cannot make confident assumptions about this feature in either direction."
   ]
  },
  {
   "cell_type": "markdown",
   "metadata": {},
   "source": [
    "## Thal"
   ]
  },
  {
   "cell_type": "code",
   "execution_count": 19,
   "metadata": {
    "ExecuteTime": {
     "end_time": "2020-11-29T02:30:48.830565Z",
     "start_time": "2020-11-29T02:30:48.704899Z"
    }
   },
   "outputs": [
    {
     "data": {
      "text/plain": [
       "<AxesSubplot:xlabel='thal', ylabel='count'>"
      ]
     },
     "execution_count": 19,
     "metadata": {},
     "output_type": "execute_result"
    },
    {
     "data": {
      "image/png": "[encoded data removed]",
      "text/plain": [
       "<Figure size 432x288 with 1 Axes>"
      ]
     },
     "metadata": {
      "needs_background": "light"
     },
     "output_type": "display_data"
    }
   ],
   "source": [
    "sns.countplot(x=\"thal\", hue=\"target\", data=heart_df)"
   ]
  },
  {
   "cell_type": "markdown",
   "metadata": {},
   "source": [
    "I don't really know how to interpret this variable as I think that it is a nominal categorical variable. All I can tell is that values 0 and 1 are unlikely and value 2 is very likely to have heart disease in our dataset."
   ]
  },
  {
   "cell_type": "markdown",
   "metadata": {},
   "source": [
    "# Outlier Detection\n",
    "\n",
    "Steps Taken:\n",
    "1. Drop Categorical data - We will be using 1.5IQR to determine outliers. Categorical data cannot have outliers with this metric.\n",
    "2. Plot data with outliers to visually show how many outliers for the different variables.\n",
    "3. Determine which observations are outliers\n",
    "4. Replot our data after removing the outliers to verify their correct removal."
   ]
  },
  {
   "cell_type": "markdown",
   "metadata": {},
   "source": [
    "## Drop Categorical Columns"
   ]
  },
  {
   "cell_type": "code",
   "execution_count": 20,
   "metadata": {
    "ExecuteTime": {
     "end_time": "2020-11-29T02:30:48.836547Z",
     "start_time": "2020-11-29T02:30:48.831561Z"
    }
   },
   "outputs": [],
   "source": [
    "# remove categorical data from outlier detection\n",
    "cat_columns = [\"sex\", \"cp\", \"fbs\", \"restecg\", \"exang\", \"slope\", \"ca\", \"thal\"]\n",
    "no_cat_df = heart_df.drop(columns=cat_columns + [\"target\"])"
   ]
  },
  {
   "cell_type": "markdown",
   "metadata": {},
   "source": [
    "## Plot Original Data(Scaled)"
   ]
  },
  {
   "cell_type": "code",
   "execution_count": 21,
   "metadata": {
    "ExecuteTime": {
     "end_time": "2020-11-29T02:30:48.993129Z",
     "start_time": "2020-11-29T02:30:48.837545Z"
    }
   },
   "outputs": [
    {
     "data": {
      "image/png": "[encoded data removed]",
      "text/plain": [
       "<Figure size 576x432 with 1 Axes>"
      ]
     },
     "metadata": {
      "needs_background": "light"
     },
     "output_type": "display_data"
    }
   ],
   "source": [
    "plt.figure(figsize=(8,6))\n",
    "no_cat_df.boxplot();"
   ]
  },
  {
   "cell_type": "markdown",
   "metadata": {},
   "source": [
    "A quick view of the outliers above gives the impression that all of these outliers are realistic measurements rather than incorrectly input data. For instance, if we had a heart rate measured at 0, we would know that that is incorrectly input data. The most suspicious looking datapoint would be the cholesteral value much further from the rest at over 500, however, that is still a humanly possible value."
   ]
  },
  {
   "cell_type": "markdown",
   "metadata": {},
   "source": [
    "## Determine which Observations (Rows) are Outliers"
   ]
  },
  {
   "cell_type": "code",
   "execution_count": 22,
   "metadata": {
    "ExecuteTime": {
     "end_time": "2020-11-29T02:30:49.016068Z",
     "start_time": "2020-11-29T02:30:48.996122Z"
    }
   },
   "outputs": [
    {
     "name": "stdout",
     "output_type": "stream",
     "text": [
      "19\n"
     ]
    }
   ],
   "source": [
    "from collections import Counter\n",
    "\n",
    "outlier_rows = Counter()\n",
    "k=1.5\n",
    "\n",
    "for col in no_cat_df:\n",
    "    q1 = no_cat_df[col].quantile(.25)\n",
    "    q3 = no_cat_df[col].quantile(.75)\n",
    "    iqr = q3-q1\n",
    "    lower_bound = q1-k*iqr\n",
    "    upper_bound = q3+k*iqr\n",
    "    \n",
    "    mask = no_cat_df[col].between(lower_bound, upper_bound, inclusive=True)\n",
    "    outlier_rows.update(mask[~mask].index.values)\n",
    "\n",
    "outlier_idxs = list(outlier_rows)\n",
    "print(len(outlier_idxs))"
   ]
  },
  {
   "cell_type": "markdown",
   "metadata": {},
   "source": [
    "In total we had 19 unique observations that were outliers. All but one of these outliers is due to the patient having unusually high, and often dangerous, realistic measurements. The only observation that had two outlying features was patient 101. We can see from its data below that is an outlier due to its high trestbps and oldpeak values. Unsurprisingly, this patient has heart disease."
   ]
  },
  {
   "cell_type": "code",
   "execution_count": 23,
   "metadata": {
    "ExecuteTime": {
     "end_time": "2020-11-29T02:30:49.033022Z",
     "start_time": "2020-11-29T02:30:49.018063Z"
    }
   },
   "outputs": [
    {
     "data": {
      "text/html": [
       "<div>\n",
       "<style scoped>\n",
       "    .dataframe tbody tr th:only-of-type {\n",
       "        vertical-align: middle;\n",
       "    }\n",
       "\n",
       "    .dataframe tbody tr th {\n",
       "        vertical-align: top;\n",
       "    }\n",
       "\n",
       "    .dataframe thead th {\n",
       "        text-align: right;\n",
       "    }\n",
       "</style>\n",
       "<table border=\"1\" class=\"dataframe\">\n",
       "  <thead>\n",
       "    <tr style=\"text-align: right;\">\n",
       "      <th></th>\n",
       "      <th>age</th>\n",
       "      <th>sex</th>\n",
       "      <th>cp</th>\n",
       "      <th>trestbps</th>\n",
       "      <th>chol</th>\n",
       "      <th>fbs</th>\n",
       "      <th>restecg</th>\n",
       "      <th>thalach</th>\n",
       "      <th>exang</th>\n",
       "      <th>oldpeak</th>\n",
       "      <th>slope</th>\n",
       "      <th>ca</th>\n",
       "      <th>thal</th>\n",
       "      <th>target</th>\n",
       "    </tr>\n",
       "  </thead>\n",
       "  <tbody>\n",
       "    <tr>\n",
       "      <th>101</th>\n",
       "      <td>59</td>\n",
       "      <td>1</td>\n",
       "      <td>3</td>\n",
       "      <td>178</td>\n",
       "      <td>270</td>\n",
       "      <td>0</td>\n",
       "      <td>0</td>\n",
       "      <td>145</td>\n",
       "      <td>0</td>\n",
       "      <td>4.2</td>\n",
       "      <td>0</td>\n",
       "      <td>0</td>\n",
       "      <td>3</td>\n",
       "      <td>1</td>\n",
       "    </tr>\n",
       "  </tbody>\n",
       "</table>\n",
       "</div>"
      ],
      "text/plain": [
       "     age  sex  cp  trestbps  chol  fbs  restecg  thalach  exang  oldpeak  \\\n",
       "101   59    1   3       178   270    0        0      145      0      4.2   \n",
       "\n",
       "     slope  ca  thal  target  \n",
       "101      0   0     3       1  "
      ]
     },
     "metadata": {},
     "output_type": "display_data"
    }
   ],
   "source": [
    "display(heart_df.iloc[[101]])"
   ]
  },
  {
   "cell_type": "markdown",
   "metadata": {},
   "source": [
    "Now, let us replot our boxplots from above to make sure that we have correctly located all outliers."
   ]
  },
  {
   "cell_type": "code",
   "execution_count": 24,
   "metadata": {
    "ExecuteTime": {
     "end_time": "2020-11-29T02:30:49.222517Z",
     "start_time": "2020-11-29T02:30:49.034019Z"
    }
   },
   "outputs": [
    {
     "data": {
      "image/png": "[encoded data removed]",
      "text/plain": [
       "<Figure size 576x432 with 1 Axes>"
      ]
     },
     "metadata": {
      "needs_background": "light"
     },
     "output_type": "display_data"
    }
   ],
   "source": [
    "plt.figure(figsize=(8,6))\n",
    "no_cat_df.drop(index=outlier_idxs).boxplot();"
   ]
  },
  {
   "cell_type": "markdown",
   "metadata": {},
   "source": [
    "At this point we have correctly captured all of the observations that count as outliers. However, all of these observations are also realistic measurements, so we will not be blindly throwing them out. We will instead monitor the impact these observations have on our model accuracy later on."
   ]
  },
  {
   "cell_type": "markdown",
   "metadata": {
    "ExecuteTime": {
     "end_time": "2020-11-15T03:04:11.322068Z",
     "start_time": "2020-11-15T03:04:11.308072Z"
    }
   },
   "source": [
    "# Clustering\n",
    "At this point I am curious if there is any obvious clustering before we try fitting the data. We can follow the steps below to check for clustering in this case using PCA.\n",
    "\n",
    "1. Preprocessing\n",
    "    - One Hot Encode certain features\n",
    "    - Scale values to the domain of [0, 1]\n",
    "    - Drop features we do not plan on using in our models (like Age)\n",
    "2. Reduce dimensionality using PCA\n",
    "3. Plot"
   ]
  },
  {
   "cell_type": "markdown",
   "metadata": {},
   "source": [
    "## Preprocessing"
   ]
  },
  {
   "cell_type": "code",
   "execution_count": 25,
   "metadata": {
    "ExecuteTime": {
     "end_time": "2020-11-29T02:30:49.229498Z",
     "start_time": "2020-11-29T02:30:49.223514Z"
    }
   },
   "outputs": [],
   "source": [
    "# We will keep our original dataset untouched by making a copy to work with.\n",
    "# At the same time we are splitting out the target column to avoid modifying it.\n",
    "x_df = heart_df.copy().drop(columns=[\"target\"])\n",
    "y_df = heart_df[[\"target\"]].copy()"
   ]
  },
  {
   "cell_type": "code",
   "execution_count": 26,
   "metadata": {
    "ExecuteTime": {
     "end_time": "2020-11-29T02:30:49.246452Z",
     "start_time": "2020-11-29T02:30:49.230495Z"
    }
   },
   "outputs": [],
   "source": [
    "# One Hot Encoding\n",
    "## Columns observed to be suitable for One Hot Encoding\n",
    "# columns [\"sex\", \"fbs\", \"exang\"] do not need one hot encoding as they are already boolean values (0 or 1).\n",
    "ohe_features = [\"cp\", \"restecg\", \"slope\", \"thal\"]\n",
    "x_df = pd.get_dummies(x_df, columns=ohe_features)"
   ]
  },
  {
   "cell_type": "code",
   "execution_count": 27,
   "metadata": {
    "ExecuteTime": {
     "end_time": "2020-11-29T02:30:49.451950Z",
     "start_time": "2020-11-29T02:30:49.247450Z"
    }
   },
   "outputs": [],
   "source": [
    "# Scaling\n",
    "from sklearn.preprocessing import MinMaxScaler\n",
    "## By default the scaler scales values into the range 0-1\n",
    "scaler = MinMaxScaler()\n",
    "x_df = pd.DataFrame(scaler.fit_transform(x_df), columns=x_df.columns)"
   ]
  },
  {
   "cell_type": "code",
   "execution_count": 28,
   "metadata": {
    "ExecuteTime": {
     "end_time": "2020-11-29T02:30:49.457888Z",
     "start_time": "2020-11-29T02:30:49.453932Z"
    }
   },
   "outputs": [],
   "source": [
    "# Column Dropping\n",
    "## Columns I have decided to drop based on above analysis:\n",
    "## These drops are not meant to improve scores or ability to cluster this data. \n",
    "## I am dropping these columns because they seem biased in our dataset.\n",
    "drop_features = [\"age\", \"trestbps\"]\n",
    "x_df = x_df.drop(columns=drop_features)"
   ]
  },
  {
   "cell_type": "code",
   "execution_count": 29,
   "metadata": {
    "ExecuteTime": {
     "end_time": "2020-11-29T02:30:49.490833Z",
     "start_time": "2020-11-29T02:30:49.458913Z"
    }
   },
   "outputs": [
    {
     "data": {
      "text/html": [
       "<div>\n",
       "<style scoped>\n",
       "    .dataframe tbody tr th:only-of-type {\n",
       "        vertical-align: middle;\n",
       "    }\n",
       "\n",
       "    .dataframe tbody tr th {\n",
       "        vertical-align: top;\n",
       "    }\n",
       "\n",
       "    .dataframe thead th {\n",
       "        text-align: right;\n",
       "    }\n",
       "</style>\n",
       "<table border=\"1\" class=\"dataframe\">\n",
       "  <thead>\n",
       "    <tr style=\"text-align: right;\">\n",
       "      <th></th>\n",
       "      <th>sex</th>\n",
       "      <th>chol</th>\n",
       "      <th>fbs</th>\n",
       "      <th>thalach</th>\n",
       "      <th>exang</th>\n",
       "      <th>oldpeak</th>\n",
       "      <th>ca</th>\n",
       "      <th>cp_0</th>\n",
       "      <th>cp_1</th>\n",
       "      <th>cp_2</th>\n",
       "      <th>...</th>\n",
       "      <th>restecg_0</th>\n",
       "      <th>restecg_1</th>\n",
       "      <th>restecg_2</th>\n",
       "      <th>slope_0</th>\n",
       "      <th>slope_1</th>\n",
       "      <th>slope_2</th>\n",
       "      <th>thal_0</th>\n",
       "      <th>thal_1</th>\n",
       "      <th>thal_2</th>\n",
       "      <th>thal_3</th>\n",
       "    </tr>\n",
       "  </thead>\n",
       "  <tbody>\n",
       "    <tr>\n",
       "      <th>0</th>\n",
       "      <td>1.0</td>\n",
       "      <td>0.244292</td>\n",
       "      <td>1.0</td>\n",
       "      <td>0.603053</td>\n",
       "      <td>0.0</td>\n",
       "      <td>0.370968</td>\n",
       "      <td>0.0</td>\n",
       "      <td>0.0</td>\n",
       "      <td>0.0</td>\n",
       "      <td>0.0</td>\n",
       "      <td>...</td>\n",
       "      <td>1.0</td>\n",
       "      <td>0.0</td>\n",
       "      <td>0.0</td>\n",
       "      <td>1.0</td>\n",
       "      <td>0.0</td>\n",
       "      <td>0.0</td>\n",
       "      <td>0.0</td>\n",
       "      <td>1.0</td>\n",
       "      <td>0.0</td>\n",
       "      <td>0.0</td>\n",
       "    </tr>\n",
       "    <tr>\n",
       "      <th>1</th>\n",
       "      <td>1.0</td>\n",
       "      <td>0.283105</td>\n",
       "      <td>0.0</td>\n",
       "      <td>0.885496</td>\n",
       "      <td>0.0</td>\n",
       "      <td>0.564516</td>\n",
       "      <td>0.0</td>\n",
       "      <td>0.0</td>\n",
       "      <td>0.0</td>\n",
       "      <td>1.0</td>\n",
       "      <td>...</td>\n",
       "      <td>0.0</td>\n",
       "      <td>1.0</td>\n",
       "      <td>0.0</td>\n",
       "      <td>1.0</td>\n",
       "      <td>0.0</td>\n",
       "      <td>0.0</td>\n",
       "      <td>0.0</td>\n",
       "      <td>0.0</td>\n",
       "      <td>1.0</td>\n",
       "      <td>0.0</td>\n",
       "    </tr>\n",
       "    <tr>\n",
       "      <th>2</th>\n",
       "      <td>0.0</td>\n",
       "      <td>0.178082</td>\n",
       "      <td>0.0</td>\n",
       "      <td>0.770992</td>\n",
       "      <td>0.0</td>\n",
       "      <td>0.225806</td>\n",
       "      <td>0.0</td>\n",
       "      <td>0.0</td>\n",
       "      <td>1.0</td>\n",
       "      <td>0.0</td>\n",
       "      <td>...</td>\n",
       "      <td>1.0</td>\n",
       "      <td>0.0</td>\n",
       "      <td>0.0</td>\n",
       "      <td>0.0</td>\n",
       "      <td>0.0</td>\n",
       "      <td>1.0</td>\n",
       "      <td>0.0</td>\n",
       "      <td>0.0</td>\n",
       "      <td>1.0</td>\n",
       "      <td>0.0</td>\n",
       "    </tr>\n",
       "    <tr>\n",
       "      <th>3</th>\n",
       "      <td>1.0</td>\n",
       "      <td>0.251142</td>\n",
       "      <td>0.0</td>\n",
       "      <td>0.816794</td>\n",
       "      <td>0.0</td>\n",
       "      <td>0.129032</td>\n",
       "      <td>0.0</td>\n",
       "      <td>0.0</td>\n",
       "      <td>1.0</td>\n",
       "      <td>0.0</td>\n",
       "      <td>...</td>\n",
       "      <td>0.0</td>\n",
       "      <td>1.0</td>\n",
       "      <td>0.0</td>\n",
       "      <td>0.0</td>\n",
       "      <td>0.0</td>\n",
       "      <td>1.0</td>\n",
       "      <td>0.0</td>\n",
       "      <td>0.0</td>\n",
       "      <td>1.0</td>\n",
       "      <td>0.0</td>\n",
       "    </tr>\n",
       "    <tr>\n",
       "      <th>4</th>\n",
       "      <td>0.0</td>\n",
       "      <td>0.520548</td>\n",
       "      <td>0.0</td>\n",
       "      <td>0.702290</td>\n",
       "      <td>1.0</td>\n",
       "      <td>0.096774</td>\n",
       "      <td>0.0</td>\n",
       "      <td>1.0</td>\n",
       "      <td>0.0</td>\n",
       "      <td>0.0</td>\n",
       "      <td>...</td>\n",
       "      <td>0.0</td>\n",
       "      <td>1.0</td>\n",
       "      <td>0.0</td>\n",
       "      <td>0.0</td>\n",
       "      <td>0.0</td>\n",
       "      <td>1.0</td>\n",
       "      <td>0.0</td>\n",
       "      <td>0.0</td>\n",
       "      <td>1.0</td>\n",
       "      <td>0.0</td>\n",
       "    </tr>\n",
       "  </tbody>\n",
       "</table>\n",
       "<p>5 rows × 21 columns</p>\n",
       "</div>"
      ],
      "text/plain": [
       "   sex      chol  fbs   thalach  exang   oldpeak   ca  cp_0  cp_1  cp_2  ...  \\\n",
       "0  1.0  0.244292  1.0  0.603053    0.0  0.370968  0.0   0.0   0.0   0.0  ...   \n",
       "1  1.0  0.283105  0.0  0.885496    0.0  0.564516  0.0   0.0   0.0   1.0  ...   \n",
       "2  0.0  0.178082  0.0  0.770992    0.0  0.225806  0.0   0.0   1.0   0.0  ...   \n",
       "3  1.0  0.251142  0.0  0.816794    0.0  0.129032  0.0   0.0   1.0   0.0  ...   \n",
       "4  0.0  0.520548  0.0  0.702290    1.0  0.096774  0.0   1.0   0.0   0.0  ...   \n",
       "\n",
       "   restecg_0  restecg_1  restecg_2  slope_0  slope_1  slope_2  thal_0  thal_1  \\\n",
       "0        1.0        0.0        0.0      1.0      0.0      0.0     0.0     1.0   \n",
       "1        0.0        1.0        0.0      1.0      0.0      0.0     0.0     0.0   \n",
       "2        1.0        0.0        0.0      0.0      0.0      1.0     0.0     0.0   \n",
       "3        0.0        1.0        0.0      0.0      0.0      1.0     0.0     0.0   \n",
       "4        0.0        1.0        0.0      0.0      0.0      1.0     0.0     0.0   \n",
       "\n",
       "   thal_2  thal_3  \n",
       "0     0.0     0.0  \n",
       "1     1.0     0.0  \n",
       "2     1.0     0.0  \n",
       "3     1.0     0.0  \n",
       "4     1.0     0.0  \n",
       "\n",
       "[5 rows x 21 columns]"
      ]
     },
     "execution_count": 29,
     "metadata": {},
     "output_type": "execute_result"
    }
   ],
   "source": [
    "x_df.head()"
   ]
  },
  {
   "cell_type": "markdown",
   "metadata": {},
   "source": [
    "## Reduce Dimensionality using PCA"
   ]
  },
  {
   "cell_type": "code",
   "execution_count": 30,
   "metadata": {
    "ExecuteTime": {
     "end_time": "2020-11-29T02:30:49.585546Z",
     "start_time": "2020-11-29T02:30:49.491798Z"
    },
    "scrolled": false
   },
   "outputs": [],
   "source": [
    "from sklearn.decomposition import PCA\n",
    "\n",
    "pca = PCA(n_components=2)\n",
    "pca_results = pca.fit_transform(x_df)\n",
    "\n",
    "pca_df = pd.DataFrame()\n",
    "pca_df['pca-comp1'] = pca_results[:,0]\n",
    "pca_df['pca-comp2'] = pca_results[:,1]\n",
    "pca_df['y'] = y_df[\"target\"].copy()"
   ]
  },
  {
   "cell_type": "code",
   "execution_count": 31,
   "metadata": {
    "ExecuteTime": {
     "end_time": "2020-11-29T02:30:49.771049Z",
     "start_time": "2020-11-29T02:30:49.586543Z"
    }
   },
   "outputs": [
    {
     "data": {
      "image/png": "[encoded data removed]",
      "text/plain": [
       "<Figure size 576x432 with 1 Axes>"
      ]
     },
     "metadata": {
      "needs_background": "light"
     },
     "output_type": "display_data"
    }
   ],
   "source": [
    "plt.figure(figsize=(8,6))\n",
    "sns.scatterplot(\n",
    "    x='pca-comp1', y='pca-comp2',\n",
    "    hue=\"y\",\n",
    "    data=pca_df,\n",
    "    legend=\"full\",\n",
    ");"
   ]
  },
  {
   "cell_type": "markdown",
   "metadata": {},
   "source": [
    "The results of PCA clustering somewhat separates the data into four quadrants with some noise in the middle. The top two quadrants seem to be a cluster different than the bottom two quadrants. Additionally, the right two quadrants seem more likely to not have heart disease, while the left two quadrants are less likely to have heart disease. We can repeat the PCA  analysis after removing the outliers to see if that impacts our ability to cluster at all."
   ]
  },
  {
   "cell_type": "code",
   "execution_count": 32,
   "metadata": {
    "ExecuteTime": {
     "end_time": "2020-11-29T02:30:49.944586Z",
     "start_time": "2020-11-29T02:30:49.772047Z"
    }
   },
   "outputs": [
    {
     "data": {
      "image/png": "[encoded data removed]",
      "text/plain": [
       "<Figure size 576x432 with 1 Axes>"
      ]
     },
     "metadata": {
      "needs_background": "light"
     },
     "output_type": "display_data"
    }
   ],
   "source": [
    "# drop outliers and reset the index afterwards (avoids some pandas errors)\n",
    "x_df = x_df.drop(index=outlier_idxs).reset_index(drop=True)\n",
    "y_df = y_df.drop(index=outlier_idxs).reset_index(drop=True)\n",
    "\n",
    "pca_no_outliers = PCA(n_components=2)\n",
    "pca_results = pca_no_outliers.fit_transform(x_df)\n",
    "\n",
    "pca_no_outlier_df = pd.DataFrame()\n",
    "pca_no_outlier_df['pca-outlier-comp1'] = pca_results[:,0]\n",
    "pca_no_outlier_df['pca-outlier-comp2'] = pca_results[:,1]\n",
    "pca_no_outlier_df['y'] = y_df[\"target\"]\n",
    "\n",
    "plt.figure(figsize=(8,6))\n",
    "sns.scatterplot(\n",
    "    x='pca-outlier-comp1', y='pca-outlier-comp2',\n",
    "    hue=\"y\",\n",
    "    data=pca_no_outlier_df,\n",
    "    legend=\"full\",\n",
    ");"
   ]
  },
  {
   "cell_type": "markdown",
   "metadata": {},
   "source": [
    "If we look closely we can see that some of noisy datapoints in the middle of the upper and lower clusters are now gone. This makes sense as our outliers should be quite unique compared to our other points. There are no significant visual differences though from removing the outliers."
   ]
  },
  {
   "cell_type": "markdown",
   "metadata": {},
   "source": [
    "## PCA in 3D\n",
    "\n",
    "We can decompose our features to 3D and see if there is anything to be gained from including a 3rd dimension."
   ]
  },
  {
   "cell_type": "code",
   "execution_count": 33,
   "metadata": {
    "ExecuteTime": {
     "end_time": "2020-11-29T02:30:49.993455Z",
     "start_time": "2020-11-29T02:30:49.945584Z"
    }
   },
   "outputs": [
    {
     "data": {
      "application/vnd.jupyter.widget-view+json": {
       "model_id": "181f4983242a4ed2af8be795d9f481c0",
       "version_major": 2,
       "version_minor": 0
      },
      "text/plain": [
       "Canvas(toolbar=Toolbar(toolitems=[('Home', 'Reset original view', 'home', 'home'), ('Back', 'Back to previous …"
      ]
     },
     "metadata": {},
     "output_type": "display_data"
    }
   ],
   "source": [
    "from mpl_toolkits.mplot3d import Axes3D\n",
    "\n",
    "pca_no_outliers = PCA(n_components=3)\n",
    "pca_results = pca_no_outliers.fit_transform(x_df)\n",
    "\n",
    "pca_3D_df = pd.DataFrame()\n",
    "pca_3D_df['pca-outlier-comp1'] = pca_results[:,0]\n",
    "pca_3D_df['pca-outlier-comp2'] = pca_results[:,1]\n",
    "pca_3D_df['pca-outlier-comp3'] = pca_results[:,2]\n",
    "pca_3D_df['y'] = y_df[\"target\"]\n",
    "\n",
    "%matplotlib widget\n",
    "import matplotlib.pyplot as plt\n",
    "fig = plt.figure()\n",
    "ax = fig.add_subplot(111, projection='3d')\n",
    "ax.scatter(xs = pca_3D_df['pca-outlier-comp1'],\n",
    "               ys = pca_3D_df['pca-outlier-comp2'],\n",
    "               zs = pca_3D_df['pca-outlier-comp3'],\n",
    "               zdir='z', s=20, \n",
    "               c=pca_3D_df['y'], \n",
    "               depthshade=True)\n",
    "plt.show()"
   ]
  },
  {
   "cell_type": "markdown",
   "metadata": {},
   "source": [
    "This does not provide us with any additional information. The only datapoints that seemed distinguishable from including a 3rd dimension are the noisy datapoints in between the main two clusters."
   ]
  },
  {
   "cell_type": "markdown",
   "metadata": {},
   "source": [
    "## Investigating our PCA\n",
    "\n",
    "Now that we have looked over our PCA attempts and can see two distinct clusters (top and bottom) and a clear tendency for the left to have heart disease and the right to not have heart disease, we should determine what these axis represent. The way PCA works is that each axis is influenced by the different features of our original dataframe. We can investigate to see which features most heavily influenced our axes."
   ]
  },
  {
   "cell_type": "markdown",
   "metadata": {
    "ExecuteTime": {
     "end_time": "2020-11-25T17:12:38.113059Z",
     "start_time": "2020-11-25T17:12:38.110043Z"
    }
   },
   "source": [
    "### PCA component 1 (x-axis)"
   ]
  },
  {
   "cell_type": "code",
   "execution_count": 34,
   "metadata": {
    "ExecuteTime": {
     "end_time": "2020-11-29T02:30:50.200901Z",
     "start_time": "2020-11-29T02:30:49.994452Z"
    }
   },
   "outputs": [
    {
     "data": {
      "text/plain": [
       "<AxesSubplot:xlabel='pca-comp1', ylabel='Count'>"
      ]
     },
     "execution_count": 34,
     "metadata": {},
     "output_type": "execute_result"
    },
    {
     "data": {
      "image/png": "[encoded data removed]",
      "text/plain": [
       "<Figure size 432x288 with 1 Axes>"
      ]
     },
     "metadata": {
      "needs_background": "light"
     },
     "output_type": "display_data"
    }
   ],
   "source": [
    "%matplotlib inline\n",
    "\n",
    "sns.histplot(data=pca_df, x='pca-comp1', hue='y', bins=10)"
   ]
  },
  {
   "cell_type": "markdown",
   "metadata": {},
   "source": [
    "We can clearly see that our x-axis is a strong indicator of whether the patient has heart disease or not. Let us see which features impact this axis."
   ]
  },
  {
   "cell_type": "code",
   "execution_count": 35,
   "metadata": {
    "ExecuteTime": {
     "end_time": "2020-11-29T02:30:50.218853Z",
     "start_time": "2020-11-29T02:30:50.201898Z"
    }
   },
   "outputs": [
    {
     "data": {
      "text/html": [
       "<div>\n",
       "<style scoped>\n",
       "    .dataframe tbody tr th:only-of-type {\n",
       "        vertical-align: middle;\n",
       "    }\n",
       "\n",
       "    .dataframe tbody tr th {\n",
       "        vertical-align: top;\n",
       "    }\n",
       "\n",
       "    .dataframe thead th {\n",
       "        text-align: right;\n",
       "    }\n",
       "</style>\n",
       "<table border=\"1\" class=\"dataframe\">\n",
       "  <thead>\n",
       "    <tr style=\"text-align: right;\">\n",
       "      <th></th>\n",
       "      <th>sex</th>\n",
       "      <th>chol</th>\n",
       "      <th>fbs</th>\n",
       "      <th>thalach</th>\n",
       "      <th>exang</th>\n",
       "      <th>oldpeak</th>\n",
       "      <th>ca</th>\n",
       "      <th>cp_0</th>\n",
       "      <th>cp_1</th>\n",
       "      <th>cp_2</th>\n",
       "      <th>...</th>\n",
       "      <th>restecg_0</th>\n",
       "      <th>restecg_1</th>\n",
       "      <th>restecg_2</th>\n",
       "      <th>slope_0</th>\n",
       "      <th>slope_1</th>\n",
       "      <th>slope_2</th>\n",
       "      <th>thal_0</th>\n",
       "      <th>thal_1</th>\n",
       "      <th>thal_2</th>\n",
       "      <th>thal_3</th>\n",
       "    </tr>\n",
       "  </thead>\n",
       "  <tbody>\n",
       "    <tr>\n",
       "      <th>0</th>\n",
       "      <td>0.155171</td>\n",
       "      <td>0.010673</td>\n",
       "      <td>0.015832</td>\n",
       "      <td>-0.10012</td>\n",
       "      <td>0.31077</td>\n",
       "      <td>0.106681</td>\n",
       "      <td>0.08138</td>\n",
       "      <td>0.369268</td>\n",
       "      <td>-0.151234</td>\n",
       "      <td>-0.212168</td>\n",
       "      <td>...</td>\n",
       "      <td>0.179822</td>\n",
       "      <td>-0.187201</td>\n",
       "      <td>0.007379</td>\n",
       "      <td>0.025427</td>\n",
       "      <td>0.356282</td>\n",
       "      <td>-0.381709</td>\n",
       "      <td>0.000755</td>\n",
       "      <td>0.045067</td>\n",
       "      <td>-0.412058</td>\n",
       "      <td>0.366237</td>\n",
       "    </tr>\n",
       "  </tbody>\n",
       "</table>\n",
       "<p>1 rows × 21 columns</p>\n",
       "</div>"
      ],
      "text/plain": [
       "        sex      chol       fbs  thalach    exang   oldpeak       ca  \\\n",
       "0  0.155171  0.010673  0.015832 -0.10012  0.31077  0.106681  0.08138   \n",
       "\n",
       "       cp_0      cp_1      cp_2  ...  restecg_0  restecg_1  restecg_2  \\\n",
       "0  0.369268 -0.151234 -0.212168  ...   0.179822  -0.187201   0.007379   \n",
       "\n",
       "    slope_0   slope_1   slope_2    thal_0    thal_1    thal_2    thal_3  \n",
       "0  0.025427  0.356282 -0.381709  0.000755  0.045067 -0.412058  0.366237  \n",
       "\n",
       "[1 rows x 21 columns]"
      ]
     },
     "execution_count": 35,
     "metadata": {},
     "output_type": "execute_result"
    }
   ],
   "source": [
    "pd.DataFrame(pca.components_[0].reshape(1, -1), columns=x_df.columns)"
   ]
  },
  {
   "cell_type": "markdown",
   "metadata": {},
   "source": [
    "Looking at the first component which is represented above as the x-axis, we do not have a single feature that strongly controls this value. Instead we have the following with significant influence:\n",
    "\n",
    "| Feature| Explained Variance | Interpretation |\n",
    "| :- | -: | :-: |\n",
    "| sex | 0.16 | Based on our populaiton set, being a male makes the patient less likely to have heart disease |\n",
    "| exang | 0.31 | A patient experiencing exercise induced angina is less likely to have heart disease |\n",
    "| cp_0 | 0.37 | If the patient is experiencing typical angina they are less likely to have heart disease |\n",
    "| cp_1 | -0.15 | If the patient is experiencing atypical angina they are more likely to have heart disease |\n",
    "| cp_2 | -0.21 | If the patient is experiencing non-anginal pain they are more likely to have heart disease |\n",
    "| restecg_0 | 0.18 | Unsurprisingly, if the patient has normal resting electrocardiographic results, they are less likely to have heart disease |\n",
    "| restecg_1 | -0.19 | If the patient has probable ST-T wave abnormality, they are mr elikely to have heart disease |\n",
    "| slope_1 | 0.36 | If the patient has a flat ST segment during peak exercise, they are less likely to have heart disease |\n",
    "| slope_2 | -0.38 | If the patient has a downsloping ST segment during peak exercise, they are much more likely to have heart disease |\n",
    "| thal_2 | -0.41 | Unfortunately, we do not have a clear description for this feature, but it strongly correlates with an increase in heart disease |\n",
    "| thal_3 | 0.37 | Unfortunately, we do not have a clear description for this feature, but it strongly correlates with a decrease in heart disease |"
   ]
  },
  {
   "cell_type": "markdown",
   "metadata": {},
   "source": [
    "### PCA component 2 (y-axis)"
   ]
  },
  {
   "cell_type": "code",
   "execution_count": 36,
   "metadata": {
    "ExecuteTime": {
     "end_time": "2020-11-29T02:30:50.424308Z",
     "start_time": "2020-11-29T02:30:50.219854Z"
    }
   },
   "outputs": [
    {
     "data": {
      "text/plain": [
       "<AxesSubplot:xlabel='pca-comp2', ylabel='Count'>"
      ]
     },
     "execution_count": 36,
     "metadata": {},
     "output_type": "execute_result"
    },
    {
     "data": {
      "image/png": "[encoded data removed]",
      "text/plain": [
       "<Figure size 432x288 with 1 Axes>"
      ]
     },
     "metadata": {
      "needs_background": "light"
     },
     "output_type": "display_data"
    }
   ],
   "source": [
    "sns.histplot(data = pca_df, x='pca-comp2', hue='y', bins=10)"
   ]
  },
  {
   "cell_type": "markdown",
   "metadata": {},
   "source": [
    "Unlike the x-axis, the y-axis (pca-comp2) is less useful for predicting whether a patient has heart disease or not."
   ]
  },
  {
   "cell_type": "code",
   "execution_count": 37,
   "metadata": {
    "ExecuteTime": {
     "end_time": "2020-11-29T02:30:50.442256Z",
     "start_time": "2020-11-29T02:30:50.425301Z"
    }
   },
   "outputs": [
    {
     "data": {
      "text/html": [
       "<div>\n",
       "<style scoped>\n",
       "    .dataframe tbody tr th:only-of-type {\n",
       "        vertical-align: middle;\n",
       "    }\n",
       "\n",
       "    .dataframe tbody tr th {\n",
       "        vertical-align: top;\n",
       "    }\n",
       "\n",
       "    .dataframe thead th {\n",
       "        text-align: right;\n",
       "    }\n",
       "</style>\n",
       "<table border=\"1\" class=\"dataframe\">\n",
       "  <thead>\n",
       "    <tr style=\"text-align: right;\">\n",
       "      <th></th>\n",
       "      <th>sex</th>\n",
       "      <th>chol</th>\n",
       "      <th>fbs</th>\n",
       "      <th>thalach</th>\n",
       "      <th>exang</th>\n",
       "      <th>oldpeak</th>\n",
       "      <th>ca</th>\n",
       "      <th>cp_0</th>\n",
       "      <th>cp_1</th>\n",
       "      <th>cp_2</th>\n",
       "      <th>...</th>\n",
       "      <th>restecg_0</th>\n",
       "      <th>restecg_1</th>\n",
       "      <th>restecg_2</th>\n",
       "      <th>slope_0</th>\n",
       "      <th>slope_1</th>\n",
       "      <th>slope_2</th>\n",
       "      <th>thal_0</th>\n",
       "      <th>thal_1</th>\n",
       "      <th>thal_2</th>\n",
       "      <th>thal_3</th>\n",
       "    </tr>\n",
       "  </thead>\n",
       "  <tbody>\n",
       "    <tr>\n",
       "      <th>0</th>\n",
       "      <td>0.135323</td>\n",
       "      <td>-0.027753</td>\n",
       "      <td>-0.03106</td>\n",
       "      <td>-0.007</td>\n",
       "      <td>0.064001</td>\n",
       "      <td>0.004163</td>\n",
       "      <td>0.005803</td>\n",
       "      <td>0.052073</td>\n",
       "      <td>0.006435</td>\n",
       "      <td>-0.025619</td>\n",
       "      <td>...</td>\n",
       "      <td>-0.646632</td>\n",
       "      <td>0.649098</td>\n",
       "      <td>-0.002466</td>\n",
       "      <td>-0.009588</td>\n",
       "      <td>-0.028925</td>\n",
       "      <td>0.038513</td>\n",
       "      <td>0.000042</td>\n",
       "      <td>-0.006651</td>\n",
       "      <td>-0.250979</td>\n",
       "      <td>0.257589</td>\n",
       "    </tr>\n",
       "  </tbody>\n",
       "</table>\n",
       "<p>1 rows × 21 columns</p>\n",
       "</div>"
      ],
      "text/plain": [
       "        sex      chol      fbs  thalach     exang   oldpeak        ca  \\\n",
       "0  0.135323 -0.027753 -0.03106   -0.007  0.064001  0.004163  0.005803   \n",
       "\n",
       "       cp_0      cp_1      cp_2  ...  restecg_0  restecg_1  restecg_2  \\\n",
       "0  0.052073  0.006435 -0.025619  ...  -0.646632   0.649098  -0.002466   \n",
       "\n",
       "    slope_0   slope_1   slope_2    thal_0    thal_1    thal_2    thal_3  \n",
       "0 -0.009588 -0.028925  0.038513  0.000042 -0.006651 -0.250979  0.257589  \n",
       "\n",
       "[1 rows x 21 columns]"
      ]
     },
     "execution_count": 37,
     "metadata": {},
     "output_type": "execute_result"
    }
   ],
   "source": [
    "pd.DataFrame(pca.components_[1].reshape(1, -1), columns=x_df.columns)"
   ]
  },
  {
   "cell_type": "markdown",
   "metadata": {},
   "source": [
    "The y-axis is mainly influenced by just two features: restecg and thal\n",
    "\n",
    "| Feature| Explained Variance |\n",
    "| :- | -: |\n",
    "| restecg_0 | -0.65 |\n",
    "| restecg_1 | 0.65 |\n",
    "| thal_2 | -0.25 |\n",
    "| thal_3 | 0.26 |\n",
    "\n",
    "The y-axis does not seem to have a clear influence on whether or not the patient has heart disease, but it leads to two distinct clusters in our data. It appears that the y-axis is heavily influenced by the restecg and thal values. We can see that each feature is broken into two components of equal magnitudes but opposite signs. It is likely that these two components have high correlations. At this point I do not think there is much data to gather from the y-axis, and it is mostly based on these almost boolean categories. "
   ]
  },
  {
   "cell_type": "markdown",
   "metadata": {},
   "source": [
    "# Correlation\n",
    "Let us set up correlation matrices for our data. We will separate out the categorical features that have more than two categories, but we do not need to scale any data as correlation is origin independent.\n"
   ]
  },
  {
   "cell_type": "code",
   "execution_count": 38,
   "metadata": {
    "ExecuteTime": {
     "end_time": "2020-11-29T02:30:51.539357Z",
     "start_time": "2020-11-29T02:30:50.443253Z"
    },
    "scrolled": false
   },
   "outputs": [
    {
     "data": {
      "image/png": "[encoded data removed]",
      "text/plain": [
       "<Figure size 1152x432 with 4 Axes>"
      ]
     },
     "metadata": {
      "needs_background": "light"
     },
     "output_type": "display_data"
    }
   ],
   "source": [
    "working_df = heart_df.copy()\n",
    "ohe_features = [\"cp\", \"restecg\", \"slope\", \"thal\"]\n",
    "working_df  = pd.get_dummies(working_df , columns=ohe_features)\n",
    "corr_matrix = working_df.corr()\n",
    "\n",
    "# plotting\n",
    "plt.figure(figsize=(16,6))\n",
    "\n",
    "plt.subplot(121)\n",
    "sns.heatmap(corr_matrix, cmap=\"vlag\", xticklabels=1)\n",
    "plt.title(\"Correlation Matrix\")\n",
    "plt.subplot(122)\n",
    "corr_matrix[abs(corr_matrix)<0.4] = 0\n",
    "sns.heatmap(corr_matrix, cmap=\"vlag\", xticklabels=1)\n",
    "plt.title(\"Only Correlation above 0.4 threshold\");"
   ]
  },
  {
   "cell_type": "markdown",
   "metadata": {
    "ExecuteTime": {
     "end_time": "2020-11-27T19:53:56.628855Z",
     "start_time": "2020-11-27T19:53:56.374071Z"
    },
    "hide_input": true
   },
   "source": [
    "This is not a perfect solution as we have a mix of categorical and numerical variables, but we can still gain some insight from the correlations shown here. From the filtered results on the right, where only correlations with an absolute value above a threshold of 0.4 exist, we see that target is correlated to the variables fbs, exang, oldpeak, cp_0, thal_2, and thal_3. From our PCA earlier, we also identified cp_0, exang, thal_2, and thal_3 as the storngest influencers to heart diseae."
   ]
  },
  {
   "cell_type": "markdown",
   "metadata": {},
   "source": [
    "# Simple Models\n",
    "\n",
    "Let's use 10-fold stratified cross validation for all of our models and the Area Under the ROC (AUC) as our metric.\n",
    "- linear regression\n",
    "- logistic regression\n",
    "- svm\n",
    "- knn\n",
    "- random forest\n",
    "- naive bayes"
   ]
  },
  {
   "cell_type": "markdown",
   "metadata": {
    "ExecuteTime": {
     "end_time": "2020-11-27T22:16:59.986952Z",
     "start_time": "2020-11-27T22:16:59.983950Z"
    }
   },
   "source": [
    "## Cross Validation Setup"
   ]
  },
  {
   "cell_type": "code",
   "execution_count": 39,
   "metadata": {
    "ExecuteTime": {
     "end_time": "2020-11-29T02:30:51.556279Z",
     "start_time": "2020-11-29T02:30:51.540321Z"
    }
   },
   "outputs": [],
   "source": [
    "from sklearn.model_selection import StratifiedKFold\n",
    "\n",
    "N_SPLITS = 10\n",
    "folds = heart_df.copy()\n",
    "\n",
    "# features dropped due to overwhelming bias in dataset against realistic trends\n",
    "drop_features = [\"age\", \"sex\", \"trestbps\"]\n",
    "folds = folds.drop(columns=drop_features)\n",
    "\n",
    "train = folds.drop(columns=[\"target\"])\n",
    "target = folds[[\"target\"]]\n",
    "\n",
    "skf = StratifiedKFold(n_splits=N_SPLITS, random_state=1234, shuffle=True)\n",
    "\n",
    "for f, (t_idx, v_idx) in enumerate(skf.split(X=train, y=target)):\n",
    "    folds.loc[v_idx, 'kfold'] = f\n",
    "\n",
    "folds['kfold'] = folds['kfold'].astype(int)"
   ]
  },
  {
   "cell_type": "code",
   "execution_count": 40,
   "metadata": {
    "ExecuteTime": {
     "end_time": "2020-11-29T02:30:51.573234Z",
     "start_time": "2020-11-29T02:30:51.557276Z"
    },
    "hide_input": true
   },
   "outputs": [
    {
     "data": {
      "text/html": [
       "<div>\n",
       "<style scoped>\n",
       "    .dataframe tbody tr th:only-of-type {\n",
       "        vertical-align: middle;\n",
       "    }\n",
       "\n",
       "    .dataframe tbody tr th {\n",
       "        vertical-align: top;\n",
       "    }\n",
       "\n",
       "    .dataframe thead th {\n",
       "        text-align: right;\n",
       "    }\n",
       "</style>\n",
       "<table border=\"1\" class=\"dataframe\">\n",
       "  <thead>\n",
       "    <tr style=\"text-align: right;\">\n",
       "      <th></th>\n",
       "      <th>cp</th>\n",
       "      <th>chol</th>\n",
       "      <th>fbs</th>\n",
       "      <th>restecg</th>\n",
       "      <th>thalach</th>\n",
       "      <th>exang</th>\n",
       "      <th>oldpeak</th>\n",
       "      <th>slope</th>\n",
       "      <th>ca</th>\n",
       "      <th>thal</th>\n",
       "      <th>target</th>\n",
       "      <th>kfold</th>\n",
       "    </tr>\n",
       "  </thead>\n",
       "  <tbody>\n",
       "    <tr>\n",
       "      <th>0</th>\n",
       "      <td>3</td>\n",
       "      <td>233</td>\n",
       "      <td>1</td>\n",
       "      <td>0</td>\n",
       "      <td>150</td>\n",
       "      <td>0</td>\n",
       "      <td>2.3</td>\n",
       "      <td>0</td>\n",
       "      <td>0</td>\n",
       "      <td>1</td>\n",
       "      <td>1</td>\n",
       "      <td>4</td>\n",
       "    </tr>\n",
       "    <tr>\n",
       "      <th>1</th>\n",
       "      <td>2</td>\n",
       "      <td>250</td>\n",
       "      <td>0</td>\n",
       "      <td>1</td>\n",
       "      <td>187</td>\n",
       "      <td>0</td>\n",
       "      <td>3.5</td>\n",
       "      <td>0</td>\n",
       "      <td>0</td>\n",
       "      <td>2</td>\n",
       "      <td>1</td>\n",
       "      <td>1</td>\n",
       "    </tr>\n",
       "    <tr>\n",
       "      <th>2</th>\n",
       "      <td>1</td>\n",
       "      <td>204</td>\n",
       "      <td>0</td>\n",
       "      <td>0</td>\n",
       "      <td>172</td>\n",
       "      <td>0</td>\n",
       "      <td>1.4</td>\n",
       "      <td>2</td>\n",
       "      <td>0</td>\n",
       "      <td>2</td>\n",
       "      <td>1</td>\n",
       "      <td>1</td>\n",
       "    </tr>\n",
       "  </tbody>\n",
       "</table>\n",
       "</div>"
      ],
      "text/plain": [
       "   cp  chol  fbs  restecg  thalach  exang  oldpeak  slope  ca  thal  target  \\\n",
       "0   3   233    1        0      150      0      2.3      0   0     1       1   \n",
       "1   2   250    0        1      187      0      3.5      0   0     2       1   \n",
       "2   1   204    0        0      172      0      1.4      2   0     2       1   \n",
       "\n",
       "   kfold  \n",
       "0      4  \n",
       "1      1  \n",
       "2      1  "
      ]
     },
     "execution_count": 40,
     "metadata": {},
     "output_type": "execute_result"
    }
   ],
   "source": [
    "folds.head(3)"
   ]
  },
  {
   "cell_type": "code",
   "execution_count": 41,
   "metadata": {
    "ExecuteTime": {
     "end_time": "2020-11-29T02:30:51.787699Z",
     "start_time": "2020-11-29T02:30:51.574269Z"
    },
    "hide_input": true
   },
   "outputs": [
    {
     "data": {
      "image/png": "[encoded data removed]",
      "text/plain": [
       "<Figure size 432x288 with 1 Axes>"
      ]
     },
     "metadata": {
      "needs_background": "light"
     },
     "output_type": "display_data"
    }
   ],
   "source": [
    "sns.countplot(x=\"kfold\", hue=\"target\", data=folds);"
   ]
  },
  {
   "cell_type": "markdown",
   "metadata": {},
   "source": [
    "We see that we have roughly the same number of observations in each fold, and a roughly equal distribution of target vs nontarget from fold to fold."
   ]
  },
  {
   "cell_type": "markdown",
   "metadata": {},
   "source": [
    "## Linear Regression\n",
    "Linear regression is generally not a great choice for classification problems, but let's show why by doing the appropriate analysis."
   ]
  },
  {
   "cell_type": "markdown",
   "metadata": {},
   "source": [
    "### Preprocessing\n",
    "\n",
    "One hot encoding the nominal variables and then scaling the features."
   ]
  },
  {
   "cell_type": "code",
   "execution_count": 42,
   "metadata": {
    "ExecuteTime": {
     "end_time": "2020-11-29T02:30:51.806609Z",
     "start_time": "2020-11-29T02:30:51.788658Z"
    },
    "hide_input": false
   },
   "outputs": [],
   "source": [
    "# One Hot Encoding\n",
    "## Columns observed to be suitable for One Hot Encoding\n",
    "# columns [\"sex\", \"fbs\", \"exang\"] do not need one hot encoding as they are already boolean values (0 or 1).\n",
    "ohe_features = [\"cp\", \"restecg\", \"slope\", \"thal\"]\n",
    "folds_lin_reg = pd.get_dummies(folds, columns=ohe_features)\n",
    "\n",
    "# Scaling\n",
    "## By default the scaler scales values into the range 0-1\n",
    "scaler = MinMaxScaler()\n",
    "folds_lin_reg.loc[:, ~folds_lin_reg.columns.isin(['target', 'kfold'])] = scaler.fit_transform(folds_lin_reg.loc[:, ~folds_lin_reg.columns.isin(['target', 'kfold'])])"
   ]
  },
  {
   "cell_type": "markdown",
   "metadata": {
    "ExecuteTime": {
     "end_time": "2020-11-28T05:39:03.003765Z",
     "start_time": "2020-11-28T05:39:02.998156Z"
    }
   },
   "source": [
    "### Training and Predicting by fold\n",
    "\n",
    "We will be doing something similar for each of our different models, so let's just make a function, <b>my_model_function</b> to do all of the work each time. The inputs to our function will be our data and an initialized model to use."
   ]
  },
  {
   "cell_type": "code",
   "execution_count": 43,
   "metadata": {
    "ExecuteTime": {
     "end_time": "2020-11-29T02:30:51.817580Z",
     "start_time": "2020-11-29T02:30:51.807607Z"
    },
    "hide_input": false
   },
   "outputs": [],
   "source": [
    "from sklearn.linear_model import LinearRegression\n",
    "import sklearn.metrics as metrics\n",
    "import numpy as np\n",
    "\n",
    "metric_dict = {\n",
    "  \"mse\": metrics.mean_squared_error,\n",
    "  \"roc\": metrics.roc_curve,\n",
    "}\n",
    "def my_model_function(data, model, metric):\n",
    "    # print roc, roc_score\n",
    "    # return model\n",
    "    \n",
    "    # Train our model and run against validation data\n",
    "    oof_predictions = np.zeros((data.shape[0], 1))\n",
    "    for fold in range(N_SPLITS):\n",
    "        train_idx = data[data['kfold'] != fold].index\n",
    "        val_idx = data[data['kfold'] == fold].index\n",
    "\n",
    "        x_train = data.iloc[train_idx].drop(columns=['target', 'kfold'])\n",
    "        y_train = data.iloc[train_idx][['target']]\n",
    "\n",
    "        x_valid = data.iloc[val_idx].drop(columns=['target', 'kfold'])\n",
    "        y_valid = data.iloc[val_idx][['target']]\n",
    "\n",
    "        our_model = model.fit(x_train, y_train.values.ravel())\n",
    "        y_pred = our_model.predict(x_valid).reshape(-1, 1)\n",
    "        oof_predictions[val_idx] = y_pred\n",
    "    \n",
    "    # Calculate and display results for our model     \n",
    "    if metric == \"mse\":\n",
    "        mse = metrics.mean_squared_error(data['target'].values, oof_predictions)\n",
    "        print(f\"Mean Squared Error: {mse}\")\n",
    "        \n",
    "    if metric == \"roc\":\n",
    "        fpr, tpr, threshold = metrics.roc_curve(data['target'].values, oof_predictions)\n",
    "        roc_auc = metrics.auc(fpr, tpr)\n",
    "        print(f\"Using {model}, we get an AUC of {round(100*roc_auc, 2)}%\")\n",
    "\n",
    "        plt.title(f'{model} ROC Curve')\n",
    "        plt.plot(fpr, tpr, 'b', label = 'AUC = %0.2f' % roc_auc)\n",
    "        plt.legend(loc = 'lower right')\n",
    "        plt.plot([0, 1], [0, 1],'r--')\n",
    "        plt.xlim([0, 1])\n",
    "        plt.ylim([0, 1])\n",
    "        plt.ylabel('True Positive Rate')\n",
    "        plt.xlabel('False Positive Rate')\n",
    "        plt.show()\n",
    "\n",
    "    return our_model, oof_predictions"
   ]
  },
  {
   "cell_type": "code",
   "execution_count": 44,
   "metadata": {
    "ExecuteTime": {
     "end_time": "2020-11-29T02:30:51.906344Z",
     "start_time": "2020-11-29T02:30:51.818577Z"
    }
   },
   "outputs": [
    {
     "name": "stdout",
     "output_type": "stream",
     "text": [
      "Mean Squared Error: 0.13283644250383883\n"
     ]
    }
   ],
   "source": [
    "lin_reg_m, y_pred = my_model_function(folds_lin_reg, LinearRegression(), \"mse\");"
   ]
  },
  {
   "cell_type": "markdown",
   "metadata": {},
   "source": [
    "### Linear Regression after PCA (1D) - REWORD/explain\n",
    "At this point it looks like linear regression is working great. It has about a 90% AUC with our ROC Curve. However, let's visualize what a linear regression model means by applying it on our 1D data after PCA."
   ]
  },
  {
   "cell_type": "code",
   "execution_count": 45,
   "metadata": {
    "ExecuteTime": {
     "end_time": "2020-11-29T02:30:51.923298Z",
     "start_time": "2020-11-29T02:30:51.907341Z"
    },
    "hide_input": false
   },
   "outputs": [],
   "source": [
    "# pca transform our data\n",
    "pca = PCA(n_components=1)\n",
    "pca_results = pca.fit_transform(folds_lin_reg.drop(columns=['target', 'kfold']))\n",
    "\n",
    "# pca_df with feature and target\n",
    "pca_df = pd.DataFrame()\n",
    "pca_df['pca-comp1'] = pca_results[:,0]\n",
    "pca_df['y_true'] = folds_lin_reg[['target']]\n",
    "\n",
    "# predict our targets and put in our pca_df\n",
    "lin_pca_reg_model = LinearRegression().fit(pca_df[['pca-comp1']].values, pca_df['y_true'].values)\n",
    "pca_df['y_pred'] = lin_pca_reg_model.predict(pca_df[['pca-comp1']])"
   ]
  },
  {
   "cell_type": "code",
   "execution_count": 49,
   "metadata": {
    "ExecuteTime": {
     "end_time": "2020-11-29T02:32:49.901627Z",
     "start_time": "2020-11-29T02:32:49.896640Z"
    },
    "hide_input": false
   },
   "outputs": [
    {
     "name": "stdout",
     "output_type": "stream",
     "text": [
      "Mean Squared Error: 0.1357966214459438\n"
     ]
    }
   ],
   "source": [
    "mse = metrics.mean_squared_error(pca_df['y_true'].values, pca_df['y_pred'].values)\n",
    "print(f\"Mean Squared Error: {mse}\")"
   ]
  },
  {
   "cell_type": "markdown",
   "metadata": {
    "ExecuteTime": {
     "end_time": "2020-11-28T05:21:26.377568Z",
     "start_time": "2020-11-28T05:21:26.372279Z"
    }
   },
   "source": [
    "REWORD - We cheated here by training our model against all of our data and then predicting on that data, but that has had little affect with this model. Here we again have about 90% AUC with our ROC Curve. Let's actually plot the data and the line recommended by our model."
   ]
  },
  {
   "cell_type": "code",
   "execution_count": 50,
   "metadata": {
    "ExecuteTime": {
     "end_time": "2020-11-29T02:33:21.480227Z",
     "start_time": "2020-11-29T02:33:21.285747Z"
    },
    "hide_input": false
   },
   "outputs": [
    {
     "data": {
      "image/png": "[encoded data removed]",
      "text/plain": [
       "<Figure size 576x432 with 1 Axes>"
      ]
     },
     "metadata": {
      "needs_background": "light"
     },
     "output_type": "display_data"
    }
   ],
   "source": [
    "plt.figure(figsize=(8,6))\n",
    "sns.scatterplot(\n",
    "    x='pca-comp1', y='y_true',\n",
    "    hue=\"y_true\",\n",
    "    data=pca_df,\n",
    "    legend=\"full\");\n",
    "\n",
    "pca_df = pca_df.sort_values(by=['pca-comp1'])\n",
    "\n",
    "plt.plot(pca_df['pca-comp1'].values, \n",
    "         pca_df['y_pred'].values,\n",
    "         color='red', linewidth=3);"
   ]
  },
  {
   "cell_type": "markdown",
   "metadata": {},
   "source": [
    "Here the x-axis is our 1D PCA data, and the y-value is our target. We can see that all of the cases of heart disease are up top, and the cases of no heart disease are on the bottom. The line that best fits this data has no chance to be perfect, and will inherently have a decent bit of loss. We can see from this plot alone that a logistic model work work significantly better."
   ]
  },
  {
   "cell_type": "markdown",
   "metadata": {},
   "source": [
    "## Logistic Regression"
   ]
  },
  {
   "cell_type": "markdown",
   "metadata": {},
   "source": [
    "### Preprocessing\n",
    "\n",
    "One hot encoding the nominal variables and then scaling the features."
   ]
  },
  {
   "cell_type": "code",
   "execution_count": 52,
   "metadata": {
    "ExecuteTime": {
     "end_time": "2020-11-29T02:39:41.873069Z",
     "start_time": "2020-11-29T02:39:41.852092Z"
    }
   },
   "outputs": [],
   "source": [
    "# One Hot Encoding\n",
    "## Columns observed to be suitable for One Hot Encoding\n",
    "# columns [\"sex\", \"fbs\", \"exang\"] do not need one hot encoding as they are already boolean values (0 or 1).\n",
    "ohe_features = [\"cp\", \"restecg\", \"slope\", \"thal\"]\n",
    "folds_log_reg = pd.get_dummies(folds, columns=ohe_features)\n",
    "\n",
    "# Scaling\n",
    "## By default the scaler scales values into the range 0-1\n",
    "scaler = MinMaxScaler()\n",
    "folds_log_reg.loc[:, ~folds_log_reg.columns.isin(['target', 'kfold'])] = scaler.fit_transform(folds_log_reg.loc[:, ~folds_log_reg.columns.isin(['target', 'kfold'])])"
   ]
  },
  {
   "cell_type": "markdown",
   "metadata": {},
   "source": [
    "### Training and Predicting by fold"
   ]
  },
  {
   "cell_type": "code",
   "execution_count": 53,
   "metadata": {
    "ExecuteTime": {
     "end_time": "2020-11-29T02:39:43.166036Z",
     "start_time": "2020-11-29T02:39:43.025449Z"
    }
   },
   "outputs": [
    {
     "name": "stdout",
     "output_type": "stream",
     "text": [
      "Mean Squared Error: 0.18151815181518152\n"
     ]
    }
   ],
   "source": [
    "from sklearn.linear_model import LogisticRegression\n",
    "log_reg_m, y_pred = my_model_function(folds_log_reg, LogisticRegression(), \"mse\");"
   ]
  },
  {
   "cell_type": "markdown",
   "metadata": {},
   "source": [
    "### Linear Regression after PCA (1D) - REWORD\n",
    "At this point it looks like linear regression is working great. It has about a 90% AUC with our ROC Curve. However, let's visualize what a linear regression model means by applying it on our 1D data after PCA."
   ]
  },
  {
   "cell_type": "code",
   "execution_count": 58,
   "metadata": {
    "ExecuteTime": {
     "end_time": "2020-11-29T02:41:58.868065Z",
     "start_time": "2020-11-29T02:41:58.851114Z"
    }
   },
   "outputs": [],
   "source": [
    "# pca transform our data\n",
    "pca = PCA(n_components=1)\n",
    "pca_results = pca.fit_transform(folds_log_reg.drop(columns=['target', 'kfold']))\n",
    "\n",
    "# pca_df with feature and target\n",
    "pca_df = pd.DataFrame()\n",
    "pca_df['pca-comp1'] = pca_results[:,0]\n",
    "pca_df['y_true'] = folds_log_reg[['target']]\n",
    "\n",
    "# predict our targets and put in our pca_df\n",
    "log_pca_reg_model = LogisticRegression().fit(pca_df[['pca-comp1']].values, pca_df['y_true'].values.ravel())\n",
    "pca_df['y_pred'] = log_pca_reg_model.predict(pca_df[['pca-comp1']]).reshape(-1, 1)"
   ]
  },
  {
   "cell_type": "code",
   "execution_count": 59,
   "metadata": {
    "ExecuteTime": {
     "end_time": "2020-11-29T02:42:00.397413Z",
     "start_time": "2020-11-29T02:42:00.392449Z"
    }
   },
   "outputs": [
    {
     "name": "stdout",
     "output_type": "stream",
     "text": [
      "Mean Squared Error: 0.1848184818481848\n"
     ]
    }
   ],
   "source": [
    "mse = metrics.mean_squared_error(pca_df['y_true'].values, pca_df['y_pred'].values)\n",
    "print(f\"Mean Squared Error: {mse}\")"
   ]
  },
  {
   "cell_type": "code",
   "execution_count": 60,
   "metadata": {
    "ExecuteTime": {
     "end_time": "2020-11-29T02:42:19.378139Z",
     "start_time": "2020-11-29T02:42:19.181614Z"
    }
   },
   "outputs": [
    {
     "data": {
      "image/png": "[encoded data removed]",
      "text/plain": [
       "<Figure size 576x432 with 1 Axes>"
      ]
     },
     "metadata": {
      "needs_background": "light"
     },
     "output_type": "display_data"
    }
   ],
   "source": [
    "plt.figure(figsize=(8,6))\n",
    "sns.scatterplot(\n",
    "    x='pca-comp1', y='y_true',\n",
    "    hue=\"y_true\",\n",
    "    data=pca_df,\n",
    "    legend=\"full\");\n",
    "\n",
    "pca_df = pca_df.sort_values(by=['pca-comp1'])\n",
    "\n",
    "plt.plot(pca_df['pca-comp1'].values, \n",
    "         pca_df['y_pred'].values,\n",
    "         color='red', linewidth=3);"
   ]
  },
  {
   "cell_type": "markdown",
   "metadata": {},
   "source": [
    "Crossover point corresponds with our plot in 6.4.1 that showed PCA in 1D."
   ]
  },
  {
   "cell_type": "code",
   "execution_count": null,
   "metadata": {},
   "outputs": [],
   "source": []
  },
  {
   "cell_type": "code",
   "execution_count": null,
   "metadata": {},
   "outputs": [],
   "source": []
  },
  {
   "cell_type": "code",
   "execution_count": null,
   "metadata": {},
   "outputs": [],
   "source": []
  },
  {
   "cell_type": "code",
   "execution_count": null,
   "metadata": {},
   "outputs": [],
   "source": []
  }
 ],
 "metadata": {
  "kernelspec": {
   "display_name": "Python 3",
   "language": "python",
   "name": "python3"
  },
  "language_info": {
   "codemirror_mode": {
    "name": "ipython",
    "version": 3
   },
   "file_extension": ".py",
   "mimetype": "text/x-python",
   "name": "python",
   "nbconvert_exporter": "python",
   "pygments_lexer": "ipython3",
   "version": "3.6.12"
  },
  "toc": {
   "base_numbering": 1,
   "nav_menu": {},
   "number_sections": true,
   "sideBar": true,
   "skip_h1_title": false,
   "title_cell": "Table of Contents",
   "title_sidebar": "Contents",
   "toc_cell": false,
   "toc_position": {
    "height": "calc(100% - 180px)",
    "left": "10px",
    "top": "150px",
    "width": "341.297px"
   },
   "toc_section_display": true,
   "toc_window_display": true
  }
 },
 "nbformat": 4,
 "nbformat_minor": 4
}
